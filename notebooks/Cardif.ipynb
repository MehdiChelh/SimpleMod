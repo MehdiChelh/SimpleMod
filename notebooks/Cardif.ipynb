{
 "cells": [
  {
   "cell_type": "code",
   "execution_count": null,
   "id": "16fbdeee-75f2-4d76-b722-88fa9d3b99b6",
   "metadata": {
    "pycharm": {
     "name": "#%%\n"
    }
   },
   "outputs": [],
   "source": [
    "mode = \"dask\"  # RESET THE KERNEL if you change this"
   ]
  },
  {
   "cell_type": "code",
   "execution_count": null,
   "id": "86789c82-c049-4792-a47c-beb3f5974041",
   "metadata": {
    "pycharm": {
     "name": "#%%\n"
    }
   },
   "outputs": [],
   "source": [
    "#%reload_ext autoreload\n",
    "#%autoreload 2\n",
    "import os\n",
    "# Select the mode in `pandas`, `cudf`, `dask` or `dask-cudf`.\n",
    "os.environ[\"VDF_MODE\"] = mode  # RESET THE KERNEL if you change this\n",
    "\n",
    "#import cardif_dask as vdf  # Import Virtual Dataframe\n",
    "import virtual_dataframe as vdf\n",
    "import pandas\n",
    "import numpy as np\n",
    "import dask\n",
    "import cudf\n",
    "\n",
    "print(f\"Use {vdf.VDF_MODE.name.upper()}\")"
   ]
  },
  {
   "cell_type": "markdown",
   "id": "99db97de-9d14-4559-a934-8df3bd4958a2",
   "metadata": {
    "pycharm": {
     "name": "#%% md\n"
    }
   },
   "source": [
    "# Version `.apply()` avec un seul calcul par ligne\n",
    "C'est une version ou les paramètres sont répliqués pour chaque ligne, avant le calcul.\n",
    "Le problème est qu'il faut connaitre d'avance, le nombre de colonne pour les paramètres."
   ]
  },
  {
   "cell_type": "code",
   "execution_count": null,
   "id": "b278e9b4-d5ba-46e0-9808-a8a90e12e748",
   "metadata": {
    "pycharm": {
     "name": "#%%\n"
    }
   },
   "outputs": [],
   "source": [
    "# Chaque ligne est un ensemble de paramètre pour chaque Model point\n",
    "model_points=vdf.VDataFrame(\n",
    "    {\n",
    "        \"id\": [1,2,3],\n",
    "        \"data1\": [1.0,2.0,3.0],\n",
    "        \"data2\": [10.0,20.0,30.0],\n",
    "    },\n",
    "    npartitions=2)\n",
    "model_points = model_points.set_index(\"id\",drop=False)\n",
    "#model_points.compute()"
   ]
  },
  {
   "cell_type": "code",
   "execution_count": null,
   "id": "e24e3f9e-2bb7-48dc-9a00-2e67d592c8d1",
   "metadata": {
    "pycharm": {
     "name": "#%%\n"
    }
   },
   "outputs": [],
   "source": [
    "# Chaque colonne est un ensemble de paramètre par simulation\n",
    "all_simulations=vdf.VDataFrame(\n",
    "    {\n",
    "        \"sim1\":[1,2,3],\n",
    "        \"sim2\":[4,5,6]\n",
    "    },\n",
    "    index=[\"a\",\"b\",\"c\"],\n",
    "    npartitions=1)\n",
    "\n",
    "current_simulation = 0\n",
    "\n",
    "#all_simulations.compute()"
   ]
  },
  {
   "cell_type": "code",
   "execution_count": null,
   "id": "9a8a6687-0bd5-4505-9697-937b74f38044",
   "metadata": {
    "pycharm": {
     "name": "#%%\n"
    }
   },
   "outputs": [],
   "source": [
    "def add_simulations(model_points, all_simulations, current_simulation):\n",
    "    one_simulation = all_simulations.iloc[:,current_simulation]\n",
    "    values_simulations=one_simulation.to_backend()\n",
    "    model_points=model_points.copy()\n",
    "    for i,c in enumerate(all_simulations.index.to_numpy()):\n",
    "        model_points[c] = values_simulations[i]\n",
    "    return model_points\n",
    "\n",
    "model_points_merged_with_one_simulation = add_simulations(\n",
    "    model_points,\n",
    "    all_simulations,\n",
    "    current_simulation=current_simulation)\n",
    "\n",
    "#model_points_merged_with_one_simulation.compute()"
   ]
  },
  {
   "cell_type": "code",
   "execution_count": null,
   "id": "8ab8c7db-ad8d-42c9-9362-9f062337d856",
   "metadata": {
    "pycharm": {
     "name": "#%%\n"
    }
   },
   "outputs": [],
   "source": [
    "def my_kernel(row):\n",
    "    return (row.data1 + row. data2) * row.a / row.b + row.c\n",
    "        \n",
    "r=model_points_merged_with_one_simulation.copy()\n",
    "r[\"out\"]=model_points_merged_with_one_simulation.apply(my_kernel, axis=1)\n",
    "r.compute()"
   ]
  },
  {
   "cell_type": "markdown",
   "id": "0197e559-d256-46d0-badd-243fcc0fe750",
   "metadata": {
    "pycharm": {
     "name": "#%% md\n"
    }
   },
   "source": [
    "# Version `.apply_rows()` avec plusieurs calculs par lignes\n",
    "C'est une version ou les paramètres sont répliqués pour chaque ligne, avant le calcul.\n",
    "Le problème est qu'il faut connaitre d'avance, le nombre de colonne pour les paramètres."
   ]
  },
  {
   "cell_type": "code",
   "execution_count": null,
   "id": "1d2792af-688c-455c-bc3e-8773478a30c8",
   "metadata": {
    "pycharm": {
     "name": "#%%\n"
    }
   },
   "outputs": [],
   "source": [
    "# Chaque ligne est un ensemble de paramètre pour chaque Model point\n",
    "model_points=vdf.VDataFrame(\n",
    "    {\n",
    "        \"id\": [1,2,3],\n",
    "        \"data1\": [1.0,2.0,3.0],\n",
    "        \"data2\": [10.0,20.0,30.0],\n",
    "    },\n",
    "    npartitions=2)\n",
    "model_points = model_points.set_index(\"id\",drop=False)\n",
    "#model_points.compute()"
   ]
  },
  {
   "cell_type": "code",
   "execution_count": null,
   "id": "656b0b49-97c9-4756-a340-5c4b33ae332e",
   "metadata": {
    "pycharm": {
     "name": "#%%\n"
    }
   },
   "outputs": [],
   "source": [
    "# Chaque colonne est un ensemble de paramètre par simulation\n",
    "all_simulations=vdf.VDataFrame(\n",
    "    {\n",
    "        \"sim1\":[1,2,3],\n",
    "        \"sim2\":[4,5,6]\n",
    "    },\n",
    "    index=[\"a\",\"b\",\"c\"],\n",
    "    npartitions=1)\n",
    "\n",
    "current_simulation = 0\n",
    "\n",
    "#all_simulations.compute()"
   ]
  },
  {
   "cell_type": "code",
   "execution_count": null,
   "id": "ff072483-bd91-4e01-8b06-3c51e43f2b83",
   "metadata": {
    "pycharm": {
     "name": "#%%\n"
    }
   },
   "outputs": [],
   "source": [
    "def add_simulations(model_points, all_simulations, current_simulation):\n",
    "    one_simulation = all_simulations.iloc[:,current_simulation]\n",
    "    values_simulations=one_simulation.to_backend()\n",
    "    model_points=model_points.copy()\n",
    "    for i,c in enumerate(all_simulations.index.to_numpy()):\n",
    "        model_points[c] = values_simulations[i]\n",
    "    return model_points\n",
    "\n",
    "model_points_merged_with_one_simulation = add_simulations(\n",
    "    model_points,\n",
    "    all_simulations,\n",
    "    current_simulation=current_simulation)\n",
    "\n",
    "#model_points_merged_with_one_simulation.compute()\n",
    "model_points_merged_with_one_simulation"
   ]
  },
  {
   "cell_type": "code",
   "execution_count": null,
   "id": "f7cc0c4c-72f6-4aab-bfe3-2a78466c96da",
   "metadata": {
    "pycharm": {
     "name": "#%%\n"
    }
   },
   "outputs": [],
   "source": [
    "def my_kernel(data1_s, data2_s, a_s, b_s, c_s, out1, out2):\n",
    "    for i,(data1,data2,a,b,c) in enumerate(zip(data1_s,data2_s,a_s,b_s,c_s)):\n",
    "        if data1 > 2000:\n",
    "            out1[i]=(data1+data2)*a/b+c\n",
    "        else:\n",
    "            out1[i]=(data1+data2)\n",
    "        out2[i]=b+c\n",
    "        \n",
    "r=model_points_merged_with_one_simulation.apply_rows(\n",
    "    my_kernel, \n",
    "    incols=\n",
    "    {\n",
    "        'data1':'data1_s',\n",
    "        'data2':'data2_s',\n",
    "        'a':'a_s',\n",
    "        'b':'b_s',\n",
    "        'c':'c_s'\n",
    "    },\n",
    "    outcols=\n",
    "    {\n",
    "        'out1': np.float64,\n",
    "        'out2': np.float64,\n",
    "    },\n",
    "    kwargs={}\n",
    ")\n",
    "#r.compute()"
   ]
  },
  {
   "cell_type": "code",
   "execution_count": null,
   "id": "f220bcf6-ed53-44ee-b5da-8c288baecb5d",
   "metadata": {
    "pycharm": {
     "name": "#%%\n"
    }
   },
   "outputs": [],
   "source": [
    "r"
   ]
  },
  {
   "cell_type": "code",
   "execution_count": null,
   "id": "f980f3a1-7147-4a83-b9ae-e87d4284b7c7",
   "metadata": {
    "pycharm": {
     "name": "#%%\n"
    }
   },
   "outputs": [],
   "source": [
    "r.compute()"
   ]
  },
  {
   "cell_type": "code",
   "execution_count": null,
   "id": "08730009-c68d-4c46-b80d-4d76ad47d8aa",
   "metadata": {
    "pycharm": {
     "name": "#%%\n"
    }
   },
   "outputs": [],
   "source": []
  }
 ],
 "metadata": {
  "kernelspec": {
   "display_name": "Python 3 (ipykernel)",
   "language": "python",
   "name": "python3"
  },
  "language_info": {
   "codemirror_mode": {
    "name": "ipython",
    "version": 3
   },
   "file_extension": ".py",
   "mimetype": "text/x-python",
   "name": "python",
   "nbconvert_exporter": "python",
   "pygments_lexer": "ipython3",
   "version": "3.9.13"
  }
 },
 "nbformat": 4,
 "nbformat_minor": 5
}
